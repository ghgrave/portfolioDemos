{
 "cells": [
  {
   "cell_type": "markdown",
   "metadata": {},
   "source": [
    "## First attempt at using personal images of my dogs and seeing if I can train to get the correct output"
   ]
  },
  {
   "cell_type": "markdown",
   "metadata": {},
   "source": [
    "### First step - creating custom images\n",
    "Taking these from my personal photo albums\n",
    "\n",
    "        1. Upload images from my camera\n",
    "        2. Images are too large (MB of data) so need to compress\n",
    "        3. Using a concept from the internet\n",
    "                a. able to read each image from specific directory\n",
    "                b. reduce the size of the image\n",
    "                c. side effect was a forced rotation so need to re-rotate 90d right\n",
    "                d. sabe image with a specifi file name for later labelling"
   ]
  },
  {
   "cell_type": "code",
   "execution_count": 1,
   "metadata": {},
   "outputs": [],
   "source": [
    "# from PIL import Image\n",
    "# import os\n",
    "# import PIL\n",
    "# import glob\n",
    "\n",
    "# fixed_height = 420\n",
    "# count = 0\n",
    "# images = [file for file in os.listdir('./images/atlasdog') if file.endswith(('jpeg', 'png', 'jpg', 'JPG'))]\n",
    "# for imageName in images:\n",
    "#     image = Image.open('./images/atlasdog/' + imageName)\n",
    "#     height_percent = (fixed_height / float(image.size[1]))\n",
    "#     width_size = int((float(image.size[0]) * float(height_percent)))\n",
    "#     image = image.resize((width_size, fixed_height), PIL.Image.NEAREST)\n",
    "#     image = image.rotate(-90)\n",
    "#     image.save(f'./images/atlasdog/atlas{count}.jpg')\n",
    "#     count += 1"
   ]
  },
  {
   "cell_type": "code",
   "execution_count": null,
   "metadata": {},
   "outputs": [],
   "source": []
  },
  {
   "cell_type": "code",
   "execution_count": null,
   "metadata": {},
   "outputs": [],
   "source": []
  }
 ],
 "metadata": {
  "kernelspec": {
   "display_name": "Python 3",
   "language": "python",
   "name": "python3"
  },
  "language_info": {
   "codemirror_mode": {
    "name": "ipython",
    "version": 3
   },
   "file_extension": ".py",
   "mimetype": "text/x-python",
   "name": "python",
   "nbconvert_exporter": "python",
   "pygments_lexer": "ipython3",
   "version": "3.7.3"
  }
 },
 "nbformat": 4,
 "nbformat_minor": 4
}
