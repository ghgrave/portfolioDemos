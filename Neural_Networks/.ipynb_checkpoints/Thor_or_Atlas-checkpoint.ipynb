{
 "cells": [
  {
   "cell_type": "markdown",
   "metadata": {},
   "source": [
    "## First attempt at using personal images of my dogs and seeing if I can train to get the correct output"
   ]
  },
  {
   "cell_type": "markdown",
   "metadata": {},
   "source": [
    "### First step - creating custom images\n",
    "Taking these from my personal photo albums\n",
    "\n",
    "        1. Upload images from my camera\n",
    "        2. Images are too large (MB of data) so need to compress\n",
    "        3. Using a concept from the internet\n",
    "                a. able to read each image from specific directory\n",
    "                b. reduce the size of the image\n",
    "                c. side effect was a forced rotation so need to re-rotate 90d right\n",
    "                d. save image with a specific file name for later labelling"
   ]
  },
  {
   "cell_type": "code",
   "execution_count": 1,
   "metadata": {},
   "outputs": [],
   "source": [
    "# from PIL import Image\n",
    "# import os\n",
    "# import PIL\n",
    "# import glob\n",
    "\n",
    "# fixed_height = 420\n",
    "# count = 0\n",
    "# images = [file for file in os.listdir('./images/atlasdog') if file.endswith(('jpeg', 'png', 'jpg', 'JPG'))]\n",
    "# for imageName in images:\n",
    "#     image = Image.open('./images/atlasdog/' + imageName)\n",
    "#     height_percent = (fixed_height / float(image.size[1]))\n",
    "#     width_size = int((float(image.size[0]) * float(height_percent)))\n",
    "#     image = image.resize((width_size, fixed_height), PIL.Image.NEAREST)\n",
    "#     image = image.rotate(-90)\n",
    "#     image.save(f'./images/atlasdog/atlas{count}.jpg')\n",
    "#     count += 1"
   ]
  },
  {
   "cell_type": "markdown",
   "metadata": {},
   "source": [
    "### Second Step - Using pretrained models\n",
    "\n",
    "Since there are not a lot images, using a pretrained model and see if I can make this work.\n",
    "\n",
    "        1. \n",
    "        2. \n",
    "        3.\n",
    "            a.\n",
    "            b. \n",
    "            c. \n",
    "            d. "
   ]
  },
  {
   "cell_type": "code",
   "execution_count": 25,
   "metadata": {},
   "outputs": [
    {
     "data": {
      "text/plain": [
       "['dogs', 'thordog', '.DS_Store', 'cnn', 'atlasdog']"
      ]
     },
     "execution_count": 25,
     "metadata": {},
     "output_type": "execute_result"
    }
   ],
   "source": [
    "import tensorflow as tf\n",
    "import os\n",
    "import pathlib\n",
    "dataset_url = os.getcwd() + '/dogs'\n",
    "dataset_url\n",
    "images = [file for file in os.listdir('./images') \n",
    "#           if file.endswith(('jpeg', 'png', 'jpg', 'JPG'))\n",
    "         ]\n",
    "images\n",
    "# data_dir = tf.keras.utils.get_file(origin=dataset_url, \n",
    "#                                    fname='thor0.jpg')\n",
    "# data_dir = pathlib.Path(data_dir)\n",
    "# import tensorflow_datasets as tfds\n",
    "\n",
    "# dataset, info = tfds.load(\"tf_flowers\", as_supervised=True, with_info=True)\n",
    "# dataset_size = info.splits[\"train\"].num_examples # 3670\n",
    "# class_names = info.features[\"label\"].names # [\"dandelion\", \"daisy\", ...]\n",
    "# n_classes = info.features[\"label\"].num_classes # 5\n"
   ]
  },
  {
   "cell_type": "code",
   "execution_count": null,
   "metadata": {},
   "outputs": [],
   "source": []
  },
  {
   "cell_type": "code",
   "execution_count": null,
   "metadata": {},
   "outputs": [],
   "source": []
  },
  {
   "cell_type": "code",
   "execution_count": 12,
   "metadata": {},
   "outputs": [],
   "source": [
    "\n",
    "batch_size = 32\n",
    "img_height = 180\n",
    "img_width = 180"
   ]
  },
  {
   "cell_type": "code",
   "execution_count": 13,
   "metadata": {},
   "outputs": [
    {
     "name": "stdout",
     "output_type": "stream",
     "text": [
      "Found 0 files belonging to 0 classes.\n",
      "Using 0 files for training.\n"
     ]
    },
    {
     "ename": "ValueError",
     "evalue": "No images found.",
     "output_type": "error",
     "traceback": [
      "\u001b[0;31m---------------------------------------------------------------------------\u001b[0m",
      "\u001b[0;31mValueError\u001b[0m                                Traceback (most recent call last)",
      "\u001b[0;32m<ipython-input-13-e32c42ed7672>\u001b[0m in \u001b[0;36m<module>\u001b[0;34m\u001b[0m\n\u001b[1;32m      5\u001b[0m   \u001b[0mseed\u001b[0m\u001b[0;34m=\u001b[0m\u001b[0;36m123\u001b[0m\u001b[0;34m,\u001b[0m\u001b[0;34m\u001b[0m\u001b[0;34m\u001b[0m\u001b[0m\n\u001b[1;32m      6\u001b[0m   \u001b[0mimage_size\u001b[0m\u001b[0;34m=\u001b[0m\u001b[0;34m(\u001b[0m\u001b[0mimg_height\u001b[0m\u001b[0;34m,\u001b[0m \u001b[0mimg_width\u001b[0m\u001b[0;34m)\u001b[0m\u001b[0;34m,\u001b[0m\u001b[0;34m\u001b[0m\u001b[0;34m\u001b[0m\u001b[0m\n\u001b[0;32m----> 7\u001b[0;31m   batch_size=batch_size)\n\u001b[0m",
      "\u001b[0;32m~/anaconda3/lib/python3.7/site-packages/keras/preprocessing/image_dataset.py\u001b[0m in \u001b[0;36mimage_dataset_from_directory\u001b[0;34m(directory, labels, label_mode, class_names, color_mode, batch_size, image_size, shuffle, seed, validation_split, subset, interpolation, follow_links, crop_to_aspect_ratio, **kwargs)\u001b[0m\n\u001b[1;32m    205\u001b[0m       image_paths, labels, validation_split, subset)\n\u001b[1;32m    206\u001b[0m   \u001b[0;32mif\u001b[0m \u001b[0;32mnot\u001b[0m \u001b[0mimage_paths\u001b[0m\u001b[0;34m:\u001b[0m\u001b[0;34m\u001b[0m\u001b[0;34m\u001b[0m\u001b[0m\n\u001b[0;32m--> 207\u001b[0;31m     \u001b[0;32mraise\u001b[0m \u001b[0mValueError\u001b[0m\u001b[0;34m(\u001b[0m\u001b[0;34m'No images found.'\u001b[0m\u001b[0;34m)\u001b[0m\u001b[0;34m\u001b[0m\u001b[0;34m\u001b[0m\u001b[0m\n\u001b[0m\u001b[1;32m    208\u001b[0m \u001b[0;34m\u001b[0m\u001b[0m\n\u001b[1;32m    209\u001b[0m   dataset = paths_and_labels_to_dataset(\n",
      "\u001b[0;31mValueError\u001b[0m: No images found."
     ]
    }
   ],
   "source": [
    "train_ds = tf.keras.preprocessing.image_dataset_from_directory(\n",
    "  data_dir,\n",
    "  validation_split=0.2,\n",
    "  subset=\"training\",\n",
    "  seed=123,\n",
    "  image_size=(img_height, img_width),\n",
    "  batch_size=batch_size)"
   ]
  },
  {
   "cell_type": "code",
   "execution_count": null,
   "metadata": {},
   "outputs": [],
   "source": []
  }
 ],
 "metadata": {
  "kernelspec": {
   "display_name": "Python 3",
   "language": "python",
   "name": "python3"
  },
  "language_info": {
   "codemirror_mode": {
    "name": "ipython",
    "version": 3
   },
   "file_extension": ".py",
   "mimetype": "text/x-python",
   "name": "python",
   "nbconvert_exporter": "python",
   "pygments_lexer": "ipython3",
   "version": "3.7.3"
  }
 },
 "nbformat": 4,
 "nbformat_minor": 4
}
